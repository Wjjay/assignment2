{
 "cells": [
  {
   "cell_type": "code",
   "execution_count": 5,
   "id": "e44e762d",
   "metadata": {},
   "outputs": [
    {
     "data": {
      "text/html": [
       "<div>\n",
       "<style scoped>\n",
       "    .dataframe tbody tr th:only-of-type {\n",
       "        vertical-align: middle;\n",
       "    }\n",
       "\n",
       "    .dataframe tbody tr th {\n",
       "        vertical-align: top;\n",
       "    }\n",
       "\n",
       "    .dataframe thead th {\n",
       "        text-align: right;\n",
       "    }\n",
       "</style>\n",
       "<table border=\"1\" class=\"dataframe\">\n",
       "  <thead>\n",
       "    <tr style=\"text-align: right;\">\n",
       "      <th></th>\n",
       "      <th>Fuel</th>\n",
       "      <th>Price ($USD/kg)</th>\n",
       "      <th>Energy (MJ/$USD)</th>\n",
       "      <th>CO2 (kg/kg)</th>\n",
       "      <th>Energy (MJ/kg)</th>\n",
       "    </tr>\n",
       "  </thead>\n",
       "  <tbody>\n",
       "    <tr>\n",
       "      <th>0</th>\n",
       "      <td>Crude oil</td>\n",
       "      <td>0.592895</td>\n",
       "      <td>75.055416</td>\n",
       "      <td>3.26185</td>\n",
       "      <td>44.5</td>\n",
       "    </tr>\n",
       "    <tr>\n",
       "      <th>1</th>\n",
       "      <td>Natural gas</td>\n",
       "      <td>0.256493</td>\n",
       "      <td>189.089061</td>\n",
       "      <td>2.70727</td>\n",
       "      <td>48.5</td>\n",
       "    </tr>\n",
       "    <tr>\n",
       "      <th>2</th>\n",
       "      <td>Coal</td>\n",
       "      <td>0.242350</td>\n",
       "      <td>99.030328</td>\n",
       "      <td>2.27040</td>\n",
       "      <td>24.0</td>\n",
       "    </tr>\n",
       "    <tr>\n",
       "      <th>3</th>\n",
       "      <td>Natural uranium</td>\n",
       "      <td>87.523414</td>\n",
       "      <td>5712.757046</td>\n",
       "      <td>0.00000</td>\n",
       "      <td>500000.0</td>\n",
       "    </tr>\n",
       "  </tbody>\n",
       "</table>\n",
       "</div>"
      ],
      "text/plain": [
       "              Fuel  Price ($USD/kg)  Energy (MJ/$USD)  CO2 (kg/kg)  \\\n",
       "0        Crude oil         0.592895         75.055416      3.26185   \n",
       "1      Natural gas         0.256493        189.089061      2.70727   \n",
       "2             Coal         0.242350         99.030328      2.27040   \n",
       "3  Natural uranium        87.523414       5712.757046      0.00000   \n",
       "\n",
       "   Energy (MJ/kg)  \n",
       "0            44.5  \n",
       "1            48.5  \n",
       "2            24.0  \n",
       "3        500000.0  "
      ]
     },
     "execution_count": 5,
     "metadata": {},
     "output_type": "execute_result"
    }
   ],
   "source": [
    "import pandas as pd\n",
    "\n",
    "u = pd.read_csv(\"energy_density_and_price_new.csv\")\n",
    "u.head()"
   ]
  },
  {
   "cell_type": "code",
   "execution_count": 6,
   "id": "03e087d7",
   "metadata": {},
   "outputs": [],
   "source": [
    "new = pd.melt(u, id_vars=[\"Fuel\"], var_name=\"Stat\", value_name=\"Value\")"
   ]
  },
  {
   "cell_type": "code",
   "execution_count": 7,
   "id": "5db4d467",
   "metadata": {},
   "outputs": [
    {
     "data": {
      "text/html": [
       "<div>\n",
       "<style scoped>\n",
       "    .dataframe tbody tr th:only-of-type {\n",
       "        vertical-align: middle;\n",
       "    }\n",
       "\n",
       "    .dataframe tbody tr th {\n",
       "        vertical-align: top;\n",
       "    }\n",
       "\n",
       "    .dataframe thead th {\n",
       "        text-align: right;\n",
       "    }\n",
       "</style>\n",
       "<table border=\"1\" class=\"dataframe\">\n",
       "  <thead>\n",
       "    <tr style=\"text-align: right;\">\n",
       "      <th></th>\n",
       "      <th>Fuel</th>\n",
       "      <th>Stat</th>\n",
       "      <th>Value</th>\n",
       "    </tr>\n",
       "  </thead>\n",
       "  <tbody>\n",
       "    <tr>\n",
       "      <th>0</th>\n",
       "      <td>Crude oil</td>\n",
       "      <td>Price ($USD/kg)</td>\n",
       "      <td>0.592895</td>\n",
       "    </tr>\n",
       "    <tr>\n",
       "      <th>1</th>\n",
       "      <td>Natural gas</td>\n",
       "      <td>Price ($USD/kg)</td>\n",
       "      <td>0.256493</td>\n",
       "    </tr>\n",
       "    <tr>\n",
       "      <th>2</th>\n",
       "      <td>Coal</td>\n",
       "      <td>Price ($USD/kg)</td>\n",
       "      <td>0.242350</td>\n",
       "    </tr>\n",
       "    <tr>\n",
       "      <th>3</th>\n",
       "      <td>Natural uranium</td>\n",
       "      <td>Price ($USD/kg)</td>\n",
       "      <td>87.523414</td>\n",
       "    </tr>\n",
       "    <tr>\n",
       "      <th>4</th>\n",
       "      <td>Crude oil</td>\n",
       "      <td>Energy (MJ/$USD)</td>\n",
       "      <td>75.055416</td>\n",
       "    </tr>\n",
       "  </tbody>\n",
       "</table>\n",
       "</div>"
      ],
      "text/plain": [
       "              Fuel              Stat      Value\n",
       "0        Crude oil   Price ($USD/kg)   0.592895\n",
       "1      Natural gas   Price ($USD/kg)   0.256493\n",
       "2             Coal   Price ($USD/kg)   0.242350\n",
       "3  Natural uranium   Price ($USD/kg)  87.523414\n",
       "4        Crude oil  Energy (MJ/$USD)  75.055416"
      ]
     },
     "execution_count": 7,
     "metadata": {},
     "output_type": "execute_result"
    }
   ],
   "source": [
    "new.head()"
   ]
  },
  {
   "cell_type": "code",
   "execution_count": 8,
   "id": "28787088",
   "metadata": {},
   "outputs": [],
   "source": [
    "new.to_csv(\"energy_stats.csv\", index=False)"
   ]
  },
  {
   "cell_type": "code",
   "execution_count": null,
   "id": "625ccaf3",
   "metadata": {},
   "outputs": [],
   "source": []
  }
 ],
 "metadata": {
  "kernelspec": {
   "display_name": "Python 3",
   "language": "python",
   "name": "python3"
  },
  "language_info": {
   "codemirror_mode": {
    "name": "ipython",
    "version": 3
   },
   "file_extension": ".py",
   "mimetype": "text/x-python",
   "name": "python",
   "nbconvert_exporter": "python",
   "pygments_lexer": "ipython3",
   "version": "3.7.3"
  }
 },
 "nbformat": 4,
 "nbformat_minor": 5
}
